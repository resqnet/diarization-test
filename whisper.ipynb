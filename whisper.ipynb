{
 "cells": [
  {
   "cell_type": "markdown",
   "metadata": {},
   "source": [
    "# whisperのインストール\n",
    "!pip install git+https://github.com/openai/whisper.git"
   ]
  },
  {
   "cell_type": "code",
   "execution_count": 1,
   "metadata": {},
   "outputs": [
    {
     "name": "stdout",
     "output_type": "stream",
     "text": [
      "冒頭5分を 'sample_cut.wav' に保存しました。\n"
     ]
    }
   ],
   "source": [
    "# 冒頭5分だけにする\n",
    "from pydub import AudioSegment\n",
    "\n",
    "audio = AudioSegment.from_wav(\"sample.wav\")\n",
    "five_minutes = 5 * 60 * 1000  \n",
    "audio_cut = audio[:five_minutes]\n",
    "\n",
    "audio_cut.export(\"sample.wav\", format=\"wav\")\n"
   ]
  },
  {
   "cell_type": "code",
   "execution_count": 38,
   "metadata": {},
   "outputs": [
    {
     "name": "stdout",
     "output_type": "stream",
     "text": [
      "Requirement already satisfied: pydub in ./venv/lib/python3.10/site-packages (0.25.1)\n"
     ]
    }
   ],
   "source": [
    "!pip install pydub\n",
    "!pip install -q pyannote.audio\n",
    "!pip install -Uq webvtt-py"
   ]
  },
  {
   "cell_type": "code",
   "execution_count": 32,
   "metadata": {},
   "outputs": [
    {
     "data": {
      "application/vnd.jupyter.widget-view+json": {
       "model_id": "4c4002dbd52e445eb28f84f9868deb04",
       "version_major": 2,
       "version_minor": 0
      },
      "text/plain": [
       "VBox(children=(HTML(value='<center> <img\\nsrc=https://huggingface.co/front/assets/huggingface_logo-noborder.sv…"
      ]
     },
     "metadata": {},
     "output_type": "display_data"
    }
   ],
   "source": [
    "# Hugginface Hubにログイン\n",
    "from huggingface_hub import notebook_login\n",
    "notebook_login()"
   ]
  },
  {
   "cell_type": "code",
   "execution_count": 2,
   "metadata": {},
   "outputs": [
    {
     "data": {
      "text/plain": [
       "<pyannote.audio.pipelines.speaker_diarization.SpeakerDiarization at 0x7f898b4cdfc0>"
      ]
     },
     "execution_count": 2,
     "metadata": {},
     "output_type": "execute_result"
    }
   ],
   "source": [
    "# Cudaを利用するための設定\n",
    "from pyannote.audio import Pipeline\n",
    "import torchaudio\n",
    "\n",
    "pipeline = Pipeline.from_pretrained(\n",
    "  \"pyannote/speaker-diarization-3.1\",\n",
    "  use_auth_token=True)\n",
    "\n",
    "import torch\n",
    "pipeline.to(torch.device(\"cuda\"))"
   ]
  },
  {
   "cell_type": "code",
   "execution_count": 16,
   "metadata": {},
   "outputs": [
    {
     "name": "stdout",
     "output_type": "stream",
     "text": [
      "(<Segment(0.655344, 5.26222)>, 'A', 'SPEAKER_00')\n",
      "(<Segment(5.26222, 6.93284)>, 'B', 'SPEAKER_01')\n",
      "(<Segment(7.16909, 9.29534)>, 'C', 'SPEAKER_00')\n",
      "(<Segment(10.0378, 15.5053)>, 'D', 'SPEAKER_00')\n",
      "(<Segment(15.5391, 16.9397)>, 'E', 'SPEAKER_01')\n",
      "(<Segment(17.4966, 18.6441)>, 'F', 'SPEAKER_00')\n",
      "(<Segment(19.7916, 20.7366)>, 'G', 'SPEAKER_00')\n",
      "(<Segment(22.1203, 22.3903)>, 'H', 'SPEAKER_00')\n",
      "(<Segment(23.4535, 26.5585)>, 'I', 'SPEAKER_00')\n",
      "(<Segment(25.9678, 27.5035)>, 'J', 'SPEAKER_01')\n"
     ]
    }
   ],
   "source": [
    "# 話者分離\n",
    "diarization = pipeline(\"sample_cut.wav\", num_speakers=2)\n",
    "\n",
    "with open(\"diarization.txt\", \"w\") as text_file:\n",
    "    text_file.write(str(diarization))\n",
    "\n",
    "print(*list(diarization.itertracks(yield_label = True))[:10], sep=\"\\n\")"
   ]
  },
  {
   "cell_type": "code",
   "execution_count": 6,
   "metadata": {},
   "outputs": [
    {
     "name": "stdout",
     "output_type": "stream",
     "text": [
      "['[ 00:00:00.655 -->  00:00:05.262] A SPEAKER_00']\n",
      "['[ 00:00:05.262 -->  00:00:06.932] B SPEAKER_01']\n",
      "['[ 00:00:07.169 -->  00:00:09.295] C SPEAKER_00', '[ 00:00:10.037 -->  00:00:15.505] D SPEAKER_00']\n",
      "['[ 00:00:15.539 -->  00:00:16.939] E SPEAKER_01']\n",
      "['[ 00:00:17.496 -->  00:00:18.644] F SPEAKER_00', '[ 00:00:19.791 -->  00:00:20.736] G SPEAKER_00', '[ 00:00:22.120 -->  00:00:22.390] H SPEAKER_00', '[ 00:00:23.453 -->  00:00:26.558] I SPEAKER_00']\n",
      "['[ 00:00:25.967 -->  00:00:27.503] J SPEAKER_01']\n",
      "['[ 00:00:27.857 -->  00:00:29.342] K SPEAKER_00', '[ 00:00:29.562 -->  00:00:30.625] L SPEAKER_00', '[ 00:00:31.806 -->  00:00:32.295] M SPEAKER_00', '[ 00:00:33.814 -->  00:00:38.657] N SPEAKER_00']\n",
      "['[ 00:00:38.489 -->  00:00:39.484] O SPEAKER_01']\n",
      "['[ 00:00:39.805 -->  00:00:40.699] P SPEAKER_00', '[ 00:00:41.796 -->  00:00:41.931] Q SPEAKER_00', '[ 00:00:42.150 -->  00:00:43.197] R SPEAKER_00', '[ 00:00:44.226 -->  00:00:46.589] S SPEAKER_00']\n",
      "['[ 00:00:47.129 -->  00:00:51.179] T SPEAKER_01', '[ 00:00:51.314 -->  00:00:52.124] U SPEAKER_01', '[ 00:00:53.102 -->  00:00:55.448] V SPEAKER_01', '[ 00:00:55.532 -->  00:00:55.802] W SPEAKER_01']\n",
      "['[ 00:00:55.802 -->  00:00:56.545] X SPEAKER_00']\n",
      "['[ 00:00:56.545 -->  00:00:56.832] Y SPEAKER_01']\n",
      "['[ 00:00:56.562 -->  00:00:56.579] Z SPEAKER_00']\n",
      "['[ 00:00:57.321 -->  00:00:59.684] AA SPEAKER_01']\n",
      "['[ 00:01:00.696 -->  00:01:01.860] AB SPEAKER_00', '[ 00:01:02.502 -->  00:01:05.624] AC SPEAKER_00']\n",
      "['[ 00:01:05.708 -->  00:01:09.201] AD SPEAKER_01']\n",
      "['[ 00:01:09.690 -->  00:01:10.281] AE SPEAKER_00', '[ 00:01:10.298 -->  00:01:10.315] AF SPEAKER_00', '[ 00:01:11.294 -->  00:01:11.564] AG SPEAKER_00', '[ 00:01:11.850 -->  00:01:12.897] AH SPEAKER_00', '[ 00:01:15.377 -->  00:01:16.559] AI SPEAKER_00', '[ 00:01:18.381 -->  00:01:38.260] AJ SPEAKER_00', '[ 00:01:40.234 -->  00:01:45.854] AK SPEAKER_00']\n",
      "['[ 00:01:45.516 -->  00:01:45.921] AL SPEAKER_01']\n",
      "['[ 00:01:45.921 -->  00:01:50.258] AM SPEAKER_00']\n",
      "['[ 00:01:50.258 -->  00:01:50.730] AN SPEAKER_01', '[ 00:01:51.000 -->  00:01:55.455] AO SPEAKER_01']\n",
      "['[ 00:01:55.911 -->  00:01:57.750] AP SPEAKER_00', '[ 00:01:58.155 -->  00:02:01.564] AQ SPEAKER_00', '[ 00:02:01.598 -->  00:02:01.615] AR SPEAKER_00']\n",
      "['[ 00:02:01.615 -->  00:02:03.218] AS SPEAKER_01', '[ 00:02:03.842 -->  00:02:04.467] AT SPEAKER_01', '[ 00:02:05.125 -->  00:02:05.547] AU SPEAKER_01', '[ 00:02:05.969 -->  00:02:08.196] AV SPEAKER_01', '[ 00:02:08.669 -->  00:02:19.334] AW SPEAKER_01']\n",
      "['[ 00:02:14.254 -->  00:02:14.423] AX SPEAKER_00']\n",
      "['[ 00:02:19.772 -->  00:02:23.215] AY SPEAKER_01', '[ 00:02:23.603 -->  00:02:25.054] AZ SPEAKER_01', '[ 00:02:25.476 -->  00:02:26.387] BA SPEAKER_01', '[ 00:02:26.792 -->  00:02:29.104] BB SPEAKER_01', '[ 00:02:29.222 -->  00:02:31.163] BC SPEAKER_01']\n",
      "['[ 00:02:29.374 -->  00:02:29.391] BD SPEAKER_00']\n",
      "['[ 00:02:31.264 -->  00:02:33.610] BE SPEAKER_01', '[ 00:02:33.677 -->  00:02:33.745] BF SPEAKER_01']\n",
      "['[ 00:02:33.711 -->  00:02:33.947] BG SPEAKER_00']\n",
      "['[ 00:02:33.947 -->  00:02:35.871] BH SPEAKER_01']\n",
      "['[ 00:02:33.981 -->  00:02:34.082] BI SPEAKER_00']\n",
      "['[ 00:02:36.023 -->  00:02:37.322] BJ SPEAKER_00', '[ 00:02:37.761 -->  00:02:40.799] BK SPEAKER_00']\n",
      "['[ 00:02:40.815 -->  00:02:49.320] BL SPEAKER_01']\n",
      "['[ 00:02:49.439 -->  00:02:49.590] BM SPEAKER_00', '[ 00:02:51.075 -->  00:02:51.852] BN SPEAKER_00', '[ 00:02:52.712 -->  00:02:56.880] BO SPEAKER_00']\n",
      "['[ 00:02:55.733 -->  00:02:55.969] BP SPEAKER_01']\n",
      "['[ 00:02:56.678 -->  00:02:57.134] BQ SPEAKER_01', '[ 00:02:57.387 -->  00:03:00.525] BR SPEAKER_01']\n",
      "['[ 00:02:57.454 -->  00:02:57.539] BS SPEAKER_00']\n",
      "['[ 00:03:00.846 -->  00:03:05.757] BT SPEAKER_01', '[ 00:03:06.600 -->  00:03:15.409] BU SPEAKER_01']\n",
      "['[ 00:03:14.262 -->  00:03:15.004] BV SPEAKER_00']\n",
      "['[ 00:03:15.578 -->  00:03:15.612] BW SPEAKER_01']\n",
      "['[ 00:03:15.612 -->  00:03:21.197] BX SPEAKER_00']\n",
      "['[ 00:03:20.404 -->  00:03:20.674] BY SPEAKER_01']\n",
      "['[ 00:03:21.990 -->  00:03:22.750] BZ SPEAKER_00', '[ 00:03:23.189 -->  00:03:24.083] CA SPEAKER_00', '[ 00:03:24.893 -->  00:03:28.352] CB SPEAKER_00']\n",
      "['[ 00:03:28.352 -->  00:03:31.322] CC SPEAKER_01']\n",
      "['[ 00:03:32.554 -->  00:03:32.858] CD SPEAKER_00', '[ 00:03:34.647 -->  00:03:40.755] CE SPEAKER_00']\n",
      "['[ 00:03:41.970 -->  00:03:44.839] CF SPEAKER_01', '[ 00:03:44.991 -->  00:03:46.341] CG SPEAKER_01', '[ 00:03:46.476 -->  00:03:48.450] CH SPEAKER_01', '[ 00:03:48.619 -->  00:03:49.851] CI SPEAKER_01', '[ 00:03:50.121 -->  00:03:51.404] CJ SPEAKER_01']\n",
      "['[ 00:03:51.758 -->  00:03:54.610] CK SPEAKER_00']\n",
      "['[ 00:03:54.880 -->  00:03:55.065] CL SPEAKER_01']\n",
      "['[ 00:03:56.382 -->  00:03:56.719] CM SPEAKER_00', '[ 00:03:56.871 -->  00:04:00.567] CN SPEAKER_00']\n",
      "['[ 00:04:00.550 -->  00:04:04.330] CO SPEAKER_01', '[ 00:04:05.174 -->  00:04:05.359] CP SPEAKER_01']\n",
      "['[ 00:04:06.456 -->  00:04:07.148] CQ SPEAKER_00', '[ 00:04:07.924 -->  00:04:09.342] CR SPEAKER_00', '[ 00:04:09.696 -->  00:04:11.974] CS SPEAKER_00']\n",
      "['[ 00:04:11.924 -->  00:04:16.463] CT SPEAKER_01', '[ 00:04:16.547 -->  00:04:21.509] CU SPEAKER_01']\n",
      "['[ 00:04:21.829 -->  00:04:22.521] CV SPEAKER_00', '[ 00:04:22.724 -->  00:04:25.187] CW SPEAKER_00', '[ 00:04:25.660 -->  00:04:30.486] CX SPEAKER_00']\n",
      "['[ 00:04:30.250 -->  00:04:34.435] CY SPEAKER_01', '[ 00:04:35.009 -->  00:04:36.966] CZ SPEAKER_01', '[ 00:04:37.472 -->  00:04:42.602] DA SPEAKER_01']\n",
      "['[ 00:04:42.602 -->  00:04:42.737] DB SPEAKER_00']\n",
      "['[ 00:04:42.737 -->  00:04:42.788] DC SPEAKER_01']\n",
      "['[ 00:04:45.505 -->  00:04:46.079] DD SPEAKER_00', '[ 00:04:46.214 -->  00:04:47.243] DE SPEAKER_00', '[ 00:04:47.682 -->  00:04:48.104] DF SPEAKER_00', '[ 00:04:48.222 -->  00:04:49.487] DG SPEAKER_00']\n",
      "['[ 00:04:50.129 -->  00:04:50.399] DH SPEAKER_01']\n",
      "['[ 00:04:50.753 -->  00:04:51.749] DI SPEAKER_00', '[ 00:04:53.942 -->  00:04:58.988] DJ SPEAKER_00']\n"
     ]
    }
   ],
   "source": [
    "# グルーピング\n",
    "import re\n",
    "\n",
    "def millisec(timeStr):\n",
    "  spl = timeStr.split(\":\")\n",
    "  s = (int)((int(spl[0]) * 60 * 60 + int(spl[1]) * 60 + float(spl[2]) )* 1000)\n",
    "  return s\n",
    "\n",
    "\n",
    "dzs = open('diarization.txt').read().splitlines()\n",
    "\n",
    "groups = []\n",
    "g = []\n",
    "lastend = 0\n",
    "\n",
    "for d in dzs:\n",
    "  if g and (g[0].split()[-1] != d.split()[-1]):\n",
    "    groups.append(g)\n",
    "    g = []\n",
    "\n",
    "  g.append(d)\n",
    "\n",
    "  end = re.findall('[0-9]+:[0-9]+:[0-9]+\\.[0-9]+', string=d)[1]\n",
    "  end = millisec(end)\n",
    "  if (lastend > end):\n",
    "    groups.append(g)\n",
    "    g = []\n",
    "  else:\n",
    "    lastend = end\n",
    "if g:\n",
    "  groups.append(g)\n",
    "print(*groups, sep='\\n')"
   ]
  },
  {
   "cell_type": "code",
   "execution_count": 26,
   "metadata": {},
   "outputs": [
    {
     "name": "stdout",
     "output_type": "stream",
     "text": [
      "655 5262\n",
      "5262 6932\n",
      "7169 15505\n",
      "15539 16939\n",
      "17496 26558\n",
      "25967 27503\n",
      "27857 38657\n",
      "38489 39484\n",
      "39805 46589\n",
      "47129 55802\n",
      "55802 56545\n",
      "56545 56832\n",
      "56562 56579\n",
      "57321 59684\n",
      "60696 65624\n",
      "65708 69201\n",
      "69690 105854\n",
      "105515 105920\n",
      "105920 110258\n",
      "110258 115455\n",
      "115911 121615\n",
      "121615 139334\n",
      "134254 134423\n",
      "139772 151163\n",
      "149374 149391\n",
      "151264 153745\n",
      "153711 153947\n",
      "153947 155871\n",
      "153981 154082\n",
      "156023 160799\n",
      "160815 169320\n",
      "169439 176880\n",
      "175733 175969\n",
      "176678 180525\n",
      "177454 177539\n",
      "180846 195409\n",
      "194262 195004\n",
      "195578 195612\n",
      "195612 201197\n",
      "200404 200674\n",
      "201990 208352\n",
      "208352 211322\n",
      "212554 220755\n",
      "221970 231404\n",
      "231758 234610\n",
      "234880 235065\n",
      "236382 240567\n",
      "240550 245359\n",
      "246456 251974\n",
      "251924 261509\n",
      "261829 270486\n",
      "270250 282602\n",
      "282602 282737\n",
      "282737 282788\n",
      "285505 289487\n",
      "290129 290399\n",
      "290753 298988\n"
     ]
    }
   ],
   "source": [
    "# 音声分離\n",
    "import os\n",
    "import re\n",
    "from pydub import AudioSegment\n",
    "\n",
    "# フォルダが存在しない場合は作成\n",
    "output_dir = \"voice\"\n",
    "os.makedirs(output_dir, exist_ok=True)\n",
    "\n",
    "# オーディオファイルを読み込む\n",
    "audio = AudioSegment.from_wav(\"sample_cut.wav\")\n",
    "\n",
    "gidx = -1\n",
    "for g in groups:\n",
    "    start = re.findall(r'[0-9]+:[0-9]+:[0-9]+\\.[0-9]+', string=g[0])[0]\n",
    "    end = re.findall(r'[0-9]+:[0-9]+:[0-9]+\\.[0-9]+', string=g[-1])[1]\n",
    "\n",
    "    start = millisec(start)\n",
    "    end = millisec(end) \n",
    "\n",
    "    print(start, end)\n",
    "\n",
    "    gidx += 1\n",
    "    audio[start:end].export(os.path.join(output_dir, f\"{gidx}.wav\"), format='wav')\n"
   ]
  },
  {
   "cell_type": "code",
   "execution_count": 3,
   "metadata": {},
   "outputs": [
    {
     "name": "stdout",
     "output_type": "stream",
     "text": []
    }
   ],
   "source": [
    "# 作業フォルダを作成しWhisperを実行\n",
    "import os\n",
    "\n",
    "output_dir = \"temp\"\n",
    "os.makedirs(output_dir, exist_ok=True)\n",
    "\n",
    "for i in range(gidx + 1):\n",
    "    input_wav_file = os.path.join(\"voice\", f\"{i}.wav\")\n",
    "    !whisper {input_wav_file} --language Japanese --model turbo --output_dir {output_dir} --device cuda"
   ]
  },
  {
   "cell_type": "code",
   "execution_count": 10,
   "metadata": {},
   "outputs": [
    {
     "name": "stdout",
     "output_type": "stream",
     "text": [
      "結果が captions_output.txt に保存されました。\n"
     ]
    }
   ],
   "source": [
    "# 文字起こし結果をマージ\n",
    "import os\n",
    "import re\n",
    "import webvtt\n",
    "\n",
    "from datetime import timedelta\n",
    "\n",
    "gidx = -1\n",
    "temp_dir = \"temp\"  \n",
    "spacermilli = 2000\n",
    "output_file = \"captions_output.txt\"  \n",
    "\n",
    "with open(output_file, \"w\", encoding=\"utf-8\") as f_out:\n",
    "    for g in groups:\n",
    "        shift = re.findall('[0-9]+:[0-9]+:[0-9]+\\.[0-9]+', string=g[0])[0]\n",
    "        shift = millisec(shift) - spacermilli \n",
    "        shift = max(shift, 0)\n",
    "\n",
    "        gidx += 1\n",
    "        vtt_file = os.path.join(temp_dir, f\"{gidx}.vtt\")\n",
    "        \n",
    "        captions = [[(int)(millisec(caption.start)), (int)(millisec(caption.end)), caption.text]\n",
    "                    for caption in webvtt.read(vtt_file)]\n",
    "        \n",
    "        if captions:\n",
    "            speaker = g[0].split()[-1]\n",
    "            f_out.write(f\"Speaker: {speaker}\\n\")  \n",
    "\n",
    "            for c in captions:\n",
    "                start = shift + c[0]\n",
    "                start = start / 1000.0  \n",
    "                startStr = '{0:02d}:{1:02d}:{2:06.3f}'.format(int(start // 3600),\n",
    "                                                              int(start % 3600 // 60),\n",
    "                                                              start % 60)\n",
    "\n",
    "                end = shift + c[1]\n",
    "                end = end / 1000.0  \n",
    "                endStr = '{0:02d}:{1:02d}:{2:06.3f}'.format(int(end // 3600),\n",
    "                                                            int(end % 3600 // 60),\n",
    "                                                            end % 60)\n",
    "\n",
    "                f_out.write(f'[{startStr} --> {endStr}] [{speaker}] {c[2]}\\n')\n",
    "            \n",
    "            f_out.write(\"=\" * 50 + \"\\n\") \n",
    "\n",
    "print(f\"結果が {output_file} に保存されました。\")\n"
   ]
  },
  {
   "cell_type": "markdown",
   "metadata": {},
   "source": [
    "# 途中実行時用のコード"
   ]
  },
  {
   "cell_type": "code",
   "execution_count": 2,
   "metadata": {},
   "outputs": [],
   "source": [
    "# 途中実行用 (gidxの初期化)\n",
    "import os\n",
    "import re\n",
    "\n",
    "output_dir = \"temp\"\n",
    "os.makedirs(output_dir, exist_ok=True)\n",
    "\n",
    "voice_dir = \"voice\"\n",
    "existing_files = [f for f in os.listdir(voice_dir) if f.endswith('.wav')]\n",
    "\n",
    "if existing_files:\n",
    "    existing_indices = [int(re.findall(r'\\d+', f)[0]) for f in existing_files if re.findall(r'\\d+', f)]\n",
    "    max_gidx = max(existing_indices)  \n",
    "else:\n",
    "    max_gidx = -1 \n",
    "\n",
    "gidx = max_gidx"
   ]
  }
 ],
 "metadata": {
  "kernelspec": {
   "display_name": "venv",
   "language": "python",
   "name": "python3"
  },
  "language_info": {
   "codemirror_mode": {
    "name": "ipython",
    "version": 3
   },
   "file_extension": ".py",
   "mimetype": "text/x-python",
   "name": "python",
   "nbconvert_exporter": "python",
   "pygments_lexer": "ipython3",
   "version": "3.10.12"
  }
 },
 "nbformat": 4,
 "nbformat_minor": 2
}
